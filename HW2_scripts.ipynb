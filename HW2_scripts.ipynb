{
 "cells": [
  {
   "cell_type": "markdown",
   "metadata": {},
   "source": [
    "# Homework 2 Solution Scripts"
   ]
  },
  {
   "cell_type": "code",
   "execution_count": 1,
   "metadata": {},
   "outputs": [],
   "source": [
    "import numpy as np\n",
    "import pandas as pd\n",
    "import matplotlib.pyplot as plt\n",
    "import seaborn; seaborn.set() # Plot styling"
   ]
  },
  {
   "cell_type": "code",
   "execution_count": 2,
   "metadata": {},
   "outputs": [],
   "source": [
    "coordinates = pd.read_csv('coordinates_2_.csv')\n",
    "demands = pd.read_csv('demand_2_.csv')\n",
    "costs = pd.read_csv('costs_2_.csv')\n",
    "\n",
    "A = np.asarray(coordinates) #first column= index of customer, second and third column= coordinates\n",
    "H = np.asarray(demands) #first column= index of customer, second column= demand\n",
    "C = np.asarray(costs)   ##first column= index of facility, \"i\"th columns= cost of transporting 1 unit to the customer point \"i\"\n"
   ]
  },
  {
   "cell_type": "code",
   "execution_count": 4,
   "metadata": {},
   "outputs": [],
   "source": [
    "def squaredDistSolforSingle(H=[], A=[], C=[], m=41): \n",
    "    facility42 = np.delete(C[m], 0) #cost vector of facility 42 : cost of transporting 1 unit from facility 42 to customer points\n",
    "                                     #np.multiply(H[:,1],facility42 ->> output : element wise multiplier of cost vector and demand values\n",
    "                                     #np.dot(H[:,1], facility42) ->> output: total cost of transportation of demand\n",
    "                                     #p.multiply(np.multiply(H[:,1],facility42),A[:,1]) ->> weighted average of coordinates\n",
    "    x_v1_star = (np.sum(np.multiply(np.multiply(H[:,1],facility42),A[:,1]))/np.dot(H[:,1], facility42))\n",
    "    x_v2_star = (np.sum(np.multiply(np.multiply(H[:,1],facility42),A[:,2]))/np.dot(H[:,1], facility42))\n",
    " \n",
    "    return x_v1_star, x_v2_star"
   ]
  },
  {
   "cell_type": "code",
   "execution_count": 5,
   "metadata": {},
   "outputs": [
    {
     "data": {
      "image/png": "[encoded data removed]",
      "text/plain": [
       "<Figure size 432x288 with 1 Axes>"
      ]
     },
     "metadata": {},
     "output_type": "display_data"
    }
   ],
   "source": [
    "plt.scatter(A[:, 1], A[:, 2], s=np.size(A,axis=0))\n",
    "\n",
    "[x1, x2] = squaredDistSolforSingle(H,A,C,41)"
   ]
  },
  {
   "cell_type": "code",
   "execution_count": 6,
   "metadata": {},
   "outputs": [],
   "source": [
    "index_array=np.arange(100)\n",
    "def ALA(H=[], A=[], C=[], index_array=index_array): \n",
    "    \n",
    "    x_star = np.zeros(shape=(50,2))\n",
    "    indices = np.random.choice(index_array, 2, replace=False) \n",
    "    for i in range(50):\n",
    "        indices = np.random.choice(index_array, 2, replace=False)   \n",
    "        cost_facility = np.delete(C[i], 0)[indices] #i is the facility number\n",
    "        x1_star_new = (np.sum(np.multiply(np.multiply(H[indices][:,1],cost_facility),A[indices][:,1]))/np.dot(H[indices][:,1], cost_facility))\n",
    "        x2_star_new = (np.sum(np.multiply(np.multiply(H[indices][:,1],cost_facility),A[indices][:,2]))/np.dot(H[indices][:,1], cost_facility))\n",
    "        x_star[i] = [x1_star_new,x2_star_new]\n",
    "        index_array=np.setdiff1d(index_array,indices)\n",
    "        if(index_array.size==0):\n",
    "            break\n",
    "       #COST FUNCTION KOYULUP UPDATE YAPILACAK\n",
    "        #dist yakınlığına göre reassignment yapılacak     \n",
    "    return x_star\n",
    "\n",
    "x_star=ALA(H,A,C)"
   ]
  }
 ],
 "metadata": {
  "kernelspec": {
   "display_name": "Python 3",
   "language": "python",
   "name": "python3"
  },
  "language_info": {
   "codemirror_mode": {
    "name": "ipython",
    "version": 3
   },
   "file_extension": ".py",
   "mimetype": "text/x-python",
   "name": "python",
   "nbconvert_exporter": "python",
   "pygments_lexer": "ipython3",
   "version": "3.6.5"
  },
  "toc": {
   "base_numbering": 1,
   "nav_menu": {},
   "number_sections": true,
   "sideBar": true,
   "skip_h1_title": false,
   "title_cell": "Table of Contents",
   "title_sidebar": "Contents",
   "toc_cell": false,
   "toc_position": {},
   "toc_section_display": true,
   "toc_window_display": false
  },
  "varInspector": {
   "cols": {
    "lenName": 16,
    "lenType": 16,
    "lenVar": 40
   },
   "kernels_config": {
    "python": {
     "delete_cmd_postfix": "",
     "delete_cmd_prefix": "del ",
     "library": "var_list.py",
     "varRefreshCmd": "print(var_dic_list())"
    },
    "r": {
     "delete_cmd_postfix": ") ",
     "delete_cmd_prefix": "rm(",
     "library": "var_list.r",
     "varRefreshCmd": "cat(var_dic_list()) "
    }
   },
   "types_to_exclude": [
    "module",
    "function",
    "builtin_function_or_method",
    "instance",
    "_Feature"
   ],
   "window_display": false
  }
 },
 "nbformat": 4,
 "nbformat_minor": 2
}
