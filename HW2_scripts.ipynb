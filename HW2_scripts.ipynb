{
 "cells": [
  {
   "cell_type": "markdown",
   "metadata": {},
   "source": [
    "# Homework 2 Solution Scripts"
   ]
  },
  {
   "cell_type": "code",
   "execution_count": 36,
   "metadata": {},
   "outputs": [],
   "source": [
    "import numpy as np\n",
    "import pandas as pd\n",
    "import matplotlib.pyplot as plt\n",
    "import seaborn; seaborn.set() # Plot styling"
   ]
  },
  {
   "cell_type": "code",
   "execution_count": 39,
   "metadata": {},
   "outputs": [],
   "source": [
    "coordinates = pd.read_csv('coordinates_2_.csv')\n",
    "demands = pd.read_csv('demand_2_.csv')\n",
    "costs = pd.read_csv('costs_2_.csv')\n",
    "\n",
    "A = np.asarray(coordinates) #first column= index of customer, second and third column= coordinates\n",
    "H = np.abs(np.asarray(demands)) #first column= index of customer, second column= demand\n",
    "C = np.abs(np.asarray(costs))   ##first column= index of facility, \"i\"th columns= cost of transporting 1 unit to the customer point \"i\"\n",
    "A = A[:,1:]\n",
    "H = H[:,1]\n",
    "C = C[:,1:]  # index column is removed"
   ]
  },
  {
   "cell_type": "code",
   "execution_count": 14,
   "metadata": {},
   "outputs": [],
   "source": [
    "def squaredDistSolforSingle(H=[], A=[], C=[], m=41):\n",
    "    facility_m = C[m] #cost vector of facility m: cost of transporting 1 unit from facility m to customer points\n",
    "                                     #np.multiply(H[:,1],facility_m ->> output : element wise multiplier of cost vector and demand values\n",
    "                                     #np.dot(H[:,1], facility_m) ->> output: total cost of transportation of demand\n",
    "                                     #np.multiply(np.multiply(H[:,1],facility_m),A[:,1]) ->> weighted average of coordinates   \n",
    "    x_v1_star = (np.sum(np.multiply(np.multiply(H,facility_m),A[:,0]))/np.dot(H, facility_m))\n",
    "    x_v2_star = (np.sum(np.multiply(np.multiply(H,facility_m),A[:,1]))/np.dot(H, facility_m))\n",
    "    \n",
    "    return x_v1_star, x_v2_star"
   ]
  },
  {
   "cell_type": "code",
   "execution_count": 15,
   "metadata": {},
   "outputs": [
    {
     "data": {
      "text/plain": [
       "20.5860754508008"
      ]
     },
     "execution_count": 15,
     "metadata": {},
     "output_type": "execute_result"
    },
    {
     "data": {
      "image/png": "[encoded data removed]",
      "text/plain": [
       "<Figure size 432x288 with 1 Axes>"
      ]
     },
     "metadata": {
      "needs_background": "light"
     },
     "output_type": "display_data"
    }
   ],
   "source": [
    "plt.scatter(A[:, 0], A[:, 1], s=np.size(A,axis=0))\n",
    "\n",
    "x1, x2 = squaredDistSolforSingle(H,A,C,41)\n",
    "x1\n"
   ]
  },
  {
   "cell_type": "code",
   "execution_count": 42,
   "metadata": {},
   "outputs": [
    {
     "data": {
      "text/plain": [
       "array([[ 40.90235915,  63.3598603 ,  64.42453248, ...,  60.49593336,\n",
       "         44.56722294,  56.96188199],\n",
       "       [ 21.64194504,  44.22082324,  64.50217651, ...,  40.35888521,\n",
       "         31.39829086,  34.59689768],\n",
       "       [ 78.51453231,  49.02828847,  99.92912887, ...,  75.63983721,\n",
       "         25.85580419,  57.37941534],\n",
       "       ...,\n",
       "       [ 40.66170762,   8.49777147, 102.85588477, ...,  26.17697728,\n",
       "         36.83676854,  56.68031952],\n",
       "       [ 29.61080365,  23.84314129,  98.2732103 , ...,  54.13521543,\n",
       "         27.1840509 ,  40.29233439],\n",
       "       [ 29.85094147,  38.32434623,  85.12046204, ...,  65.78598573,\n",
       "         48.08882639,  46.93668079]])"
      ]
     },
     "execution_count": 42,
     "metadata": {},
     "output_type": "execute_result"
    }
   ],
   "source": [
    "    cost_matrix = np.copy(C)\n",
    "    for i in range(100):\n",
    "        cost_matrix[:,i] = H[i]*C[:,i]\n",
    "    cost_matrix"
   ]
  },
  {
   "cell_type": "code",
   "execution_count": 48,
   "metadata": {},
   "outputs": [
    {
     "name": "stderr",
     "output_type": "stream",
     "text": [
      "C:\\Users\\mehmet\\Anaconda3\\lib\\site-packages\\ipykernel_launcher.py:6: RuntimeWarning: invalid value encountered in double_scalars\n",
      "  \n",
      "C:\\Users\\mehmet\\Anaconda3\\lib\\site-packages\\ipykernel_launcher.py:7: RuntimeWarning: invalid value encountered in double_scalars\n",
      "  import sys\n"
     ]
    }
   ],
   "source": [
    "\n",
    "def ALAHeuristics(H=[], A=[], C=[], index_array=np.arange(100), seed=440): \n",
    "    cost_matrix = C\n",
    "    for i in range(100):\n",
    "        cost_matrix[:,i] = H[i]*C[:,i]\n",
    "    # Initial step, random assignments of customers\n",
    "    facility_customers = [[] for i in range(50)]\n",
    "    facility_locations = np.zeros(shape=(50,2))\n",
    "    np.random.seed(seed)\n",
    "    customer_assignments = np.array([np.random.randint(0,50) for i in range(100)])\n",
    "    for i in range(100):\n",
    "        facility_customers[customer_assignments[i]].append(i)\n",
    "    # Solving m single facility location problems and computing new objective value until no improvement\n",
    "    objective = np.iinfo(np.int32).max\n",
    "    while(True):\n",
    "        for i in range(50):\n",
    "            x1, x2 = squaredDistSolforSingle(H[facility_customers[i]],A[facility_customers[i]],C[:,facility_customers[i]],i)\n",
    "            facility_locations[i] = np.array([x1,x2])\n",
    "        # Objective value calculation\n",
    "        new_objective = 0\n",
    "        # TODO : Make calculation\n",
    "        if(new_objective==objective):\n",
    "            break\n",
    "        objective = new_objective\n",
    "        # Reassignment of customers according to distance to facilities\n",
    "        facility_customers = [[] for i in range(50)]\n",
    "        for i in range(100):\n",
    "            coord_dif_matrix = facility_locations - A[i]\n",
    "            # for squared euclidean distance\n",
    "            distance_matrix = coord_dif_matrix[:,0]**2+coord_dif_matrix[:,1]**2\n",
    "            total_cost_matrix = np.transpose(cost_matrix[:,i])*distance_matrix\n",
    "            min_c = np.argmin(total_cost_matrix) # index of minimum value\n",
    "            facility_customers[min_c].append(i)\n",
    "            \n",
    "    return facility_locations, objective\n",
    "\n",
    "locations, objective =ALAHeuristics(H,A,C)"
   ]
  },
  {
   "cell_type": "code",
   "execution_count": 26,
   "metadata": {},
   "outputs": [],
   "source": [
    "a = np.array([1,1,3,4])\n",
    "b = np.array([1,1,2,2])\n",
    "c = a**2+b**2"
   ]
  },
  {
   "cell_type": "code",
   "execution_count": 27,
   "metadata": {},
   "outputs": [
    {
     "data": {
      "text/plain": [
       "array([ 2,  2, 13, 20], dtype=int32)"
      ]
     },
     "execution_count": 27,
     "metadata": {},
     "output_type": "execute_result"
    }
   ],
   "source": [
    "c"
   ]
  },
  {
   "cell_type": "code",
   "execution_count": 28,
   "metadata": {},
   "outputs": [
    {
     "data": {
      "text/plain": [
       "0"
      ]
     },
     "execution_count": 28,
     "metadata": {},
     "output_type": "execute_result"
    }
   ],
   "source": [
    "c.argmin()"
   ]
  }
 ],
 "metadata": {
  "kernelspec": {
   "display_name": "Python 3",
   "language": "python",
   "name": "python3"
  },
  "language_info": {
   "codemirror_mode": {
    "name": "ipython",
    "version": 3
   },
   "file_extension": ".py",
   "mimetype": "text/x-python",
   "name": "python",
   "nbconvert_exporter": "python",
   "pygments_lexer": "ipython3",
   "version": "3.7.1"
  },
  "toc": {
   "base_numbering": 1,
   "nav_menu": {},
   "number_sections": true,
   "sideBar": true,
   "skip_h1_title": false,
   "title_cell": "Table of Contents",
   "title_sidebar": "Contents",
   "toc_cell": false,
   "toc_position": {},
   "toc_section_display": true,
   "toc_window_display": false
  },
  "varInspector": {
   "cols": {
    "lenName": 16,
    "lenType": 16,
    "lenVar": 40
   },
   "kernels_config": {
    "python": {
     "delete_cmd_postfix": "",
     "delete_cmd_prefix": "del ",
     "library": "var_list.py",
     "varRefreshCmd": "print(var_dic_list())"
    },
    "r": {
     "delete_cmd_postfix": ") ",
     "delete_cmd_prefix": "rm(",
     "library": "var_list.r",
     "varRefreshCmd": "cat(var_dic_list()) "
    }
   },
   "types_to_exclude": [
    "module",
    "function",
    "builtin_function_or_method",
    "instance",
    "_Feature"
   ],
   "window_display": false
  }
 },
 "nbformat": 4,
 "nbformat_minor": 2
}
