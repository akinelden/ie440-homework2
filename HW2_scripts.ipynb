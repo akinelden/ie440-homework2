{
 "cells": [
  {
   "cell_type": "markdown",
   "metadata": {},
   "source": [
    "# Homework 2 Solution Scripts"
   ]
  },
  {
   "cell_type": "code",
   "execution_count": 70,
   "metadata": {},
   "outputs": [],
   "source": [
    "import numpy as np\n",
    "import pandas as pd\n",
    "import matplotlib.pyplot as plt\n",
    "import seaborn; seaborn.set() # Plot styling"
   ]
  },
  {
   "cell_type": "code",
   "execution_count": 105,
   "metadata": {},
   "outputs": [],
   "source": [
    "coordinates = pd.read_csv('coordinates_2_.csv')\n",
    "demands = pd.read_csv('demand_2_.csv')\n",
    "costs = pd.read_csv('costs_2_.csv')\n",
    "\n",
    "A = np.asarray(coordinates) #first column= index of customer, second and third column= coordinates\n",
    "H = np.asarray(demands) #first column= index of customer, second column= demand\n",
    "C = np.asarray(costs)   ##first column= index of facility, \"i\"th columns= cost of transporting 1 unit to the customer point \"i\"\n",
    "C = C[:,1:]  # index column is removed"
   ]
  },
  {
   "cell_type": "code",
   "execution_count": 111,
   "metadata": {},
   "outputs": [],
   "source": [
    "def squaredDistSolforSingle(H=[], A=[], C=[], m=41):\n",
    "    facility_m = C[m] #cost vector of facility m: cost of transporting 1 unit from facility m to customer points\n",
    "                                     #np.multiply(H[:,1],facility_m ->> output : element wise multiplier of cost vector and demand values\n",
    "                                     #np.dot(H[:,1], facility_m) ->> output: total cost of transportation of demand\n",
    "                                     #np.multiply(np.multiply(H[:,1],facility_m),A[:,1]) ->> weighted average of coordinates   \n",
    "    x_v1_star = (np.sum(np.multiply(np.multiply(H[:,1],facility_m),A[:,1]))/np.dot(H[:,1], facility_m))\n",
    "    x_v2_star = (np.sum(np.multiply(np.multiply(H[:,1],facility_m),A[:,2]))/np.dot(H[:,1], facility_m))\n",
    "    \n",
    "    return x_v1_star, x_v2_star"
   ]
  },
  {
   "cell_type": "code",
   "execution_count": 107,
   "metadata": {},
   "outputs": [
    {
     "data": {
      "text/plain": [
       "20.5860754508008"
      ]
     },
     "execution_count": 107,
     "metadata": {},
     "output_type": "execute_result"
    },
    {
     "data": {
      "image/png": "[encoded data removed]",
      "text/plain": [
       "<Figure size 432x288 with 1 Axes>"
      ]
     },
     "metadata": {},
     "output_type": "display_data"
    }
   ],
   "source": [
    "plt.scatter(A[:, 1], A[:, 2], s=np.size(A,axis=0))\n",
    "\n",
    "x1, x2 = squaredDistSolforSingle(H,A,C,41)\n",
    "x1\n"
   ]
  },
  {
   "cell_type": "code",
   "execution_count": 112,
   "metadata": {},
   "outputs": [
    {
     "name": "stderr",
     "output_type": "stream",
     "text": [
      "/home/akin/bin/miniconda3/lib/python3.7/site-packages/ipykernel_launcher.py:6: RuntimeWarning: invalid value encountered in double_scalars\n",
      "  \n",
      "/home/akin/bin/miniconda3/lib/python3.7/site-packages/ipykernel_launcher.py:7: RuntimeWarning: invalid value encountered in double_scalars\n",
      "  import sys\n"
     ]
    }
   ],
   "source": [
    "\n",
    "def ALAHeuristics(H=[], A=[], C=[], index_array=np.arange(100), seed=440): \n",
    "    # Initial step, random assignments of customers\n",
    "    facility_customers = [[] for i in range(50)]\n",
    "    facility_locations = np.zeros(shape=(50,2))\n",
    "    np.random.seed(seed)\n",
    "    customer_assignments = np.array([np.random.randint(0,50) for i in range(100)])\n",
    "    for i in range(100):\n",
    "        facility_customers[customer_assignments[i]].append(i)\n",
    "    # Solving m single facility location problems and computing new objective value until no improvement\n",
    "    objective = np.iinfo(np.int32).max\n",
    "    while(True):\n",
    "        for i in range(50):\n",
    "            x1, x2 = squaredDistSolforSingle(H[facility_customers[i]],A[facility_customers[i]],C[:,facility_customers[i]],i)\n",
    "            facility_locations[i] = np.array([x1,x2])\n",
    "        # Objective value calculation\n",
    "        new_objective = 0\n",
    "        # TODO : Make calculation\n",
    "        if(new_objective==objective):\n",
    "            break\n",
    "        objective = new_objective\n",
    "        # Reassignment of customers according to distance to facilities\n",
    "        \n",
    "    return facility_locations, objective\n",
    "\n",
    "locations, objective =ALAHeuristics(H,A,C)"
   ]
  }
 ],
 "metadata": {
  "kernelspec": {
   "display_name": "Python 3",
   "language": "python",
   "name": "python3"
  },
  "language_info": {
   "codemirror_mode": {
    "name": "ipython",
    "version": 3
   },
   "file_extension": ".py",
   "mimetype": "text/x-python",
   "name": "python",
   "nbconvert_exporter": "python",
   "pygments_lexer": "ipython3",
   "version": "3.7.4"
  },
  "toc": {
   "base_numbering": 1,
   "nav_menu": {},
   "number_sections": true,
   "sideBar": true,
   "skip_h1_title": false,
   "title_cell": "Table of Contents",
   "title_sidebar": "Contents",
   "toc_cell": false,
   "toc_position": {},
   "toc_section_display": true,
   "toc_window_display": false
  },
  "varInspector": {
   "cols": {
    "lenName": 16,
    "lenType": 16,
    "lenVar": 40
   },
   "kernels_config": {
    "python": {
     "delete_cmd_postfix": "",
     "delete_cmd_prefix": "del ",
     "library": "var_list.py",
     "varRefreshCmd": "print(var_dic_list())"
    },
    "r": {
     "delete_cmd_postfix": ") ",
     "delete_cmd_prefix": "rm(",
     "library": "var_list.r",
     "varRefreshCmd": "cat(var_dic_list()) "
    }
   },
   "types_to_exclude": [
    "module",
    "function",
    "builtin_function_or_method",
    "instance",
    "_Feature"
   ],
   "window_display": false
  }
 },
 "nbformat": 4,
 "nbformat_minor": 2
}
